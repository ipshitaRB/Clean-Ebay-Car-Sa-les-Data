{
  "nbformat": 4,
  "nbformat_minor": 0,
  "metadata": {
    "colab": {
      "name": "Clean_Ebay_Car_Sales_Data.ipynb",
      "provenance": [],
      "toc_visible": true,
      "include_colab_link": true
    },
    "kernelspec": {
      "name": "python3",
      "display_name": "Python 3"
    }
  },
  "cells": [
    {
      "cell_type": "markdown",
      "metadata": {
        "id": "view-in-github",
        "colab_type": "text"
      },
      "source": [
        "<a href=\"https://colab.research.google.com/github/ipshitaRB/Clean_Ebay_Car_Sales_Data/blob/master/Clean_Ebay_Car_Sales_Data.ipynb\" target=\"_parent\"><img src=\"https://colab.research.google.com/assets/colab-badge.svg\" alt=\"Open In Colab\"/></a>"
      ]
    },
    {
      "cell_type": "markdown",
      "metadata": {
        "id": "MPNEWfYN558o",
        "colab_type": "text"
      },
      "source": [
        "# Clean Ebay Car Sales Data\n",
        "## Cleaning and Analaysis of used car listings on eBay\n",
        "\n",
        "We will be working on a dataset of used cars from eBay Kleinanzeigen, a classifieds section of the German eBay website.\n",
        "\n",
        "The dataset was originally scraped and uploaded to [Kaggle](https://www.kaggle.com/orgesleka/used-cars-database/data). The version of the dataset we are working with is a sample of 50,000 data points that was prepared by Dataquest including simulating a less-cleaned version of the data.\n",
        "\n",
        "**EBay** Data:\n",
        "\n",
        "* dateCrawled - When this ad was first crawled. All field-values are taken from this date.\n",
        "* name - Name of the car.\n",
        "* seller - Whether the seller is private or a dealer.\n",
        "* offerType - The type of listing\n",
        "* price - The price on the ad to sell the car.\n",
        "* abtest - Whether the listing is included in an A/B test.\n",
        "* vehicleType - The vehicle Type.\n",
        "* yearOfRegistration - The year in which the car was first registered.\n",
        "* gearbox - The transmission type.\n",
        "* powerPS - The power of the car in PS.\n",
        "* model - The car model name.\n",
        "* kilometer - How many kilometers the car has driven.\n",
        "* monthOfRegistration - The month in which the car was first registered.\n",
        "* fuelType - What type of fuel the car uses.\n",
        "* brand - The brand of the car\n",
        "* notRepairedDamage - If the car has a damage which is not yet repaired.\n",
        "* dateCreated - The date on which the eBay listing was created.\n",
        "* nrOfPictures - The number of pictures in the ad.\n",
        "* postalCode - The postal code for the location of the vehicle.\n",
        "* lastSeenOnline - When the crawler saw this ad last online.\n",
        "\n",
        "\n",
        "\n"
      ]
    },
    {
      "cell_type": "code",
      "metadata": {
        "id": "REEE2vqqzfod",
        "colab_type": "code",
        "colab": {
          "base_uri": "https://localhost:8080/",
          "height": 34
        },
        "outputId": "f2d312b1-900a-48e4-c410-b04fd5b11705"
      },
      "source": [
        "from google.colab import drive\n",
        "drive.mount('/content/drive')"
      ],
      "execution_count": 44,
      "outputs": [
        {
          "output_type": "stream",
          "text": [
            "Drive already mounted at /content/drive; to attempt to forcibly remount, call drive.mount(\"/content/drive\", force_remount=True).\n"
          ],
          "name": "stdout"
        }
      ]
    },
    {
      "cell_type": "code",
      "metadata": {
        "id": "fiBH8ABE0RjN",
        "colab_type": "code",
        "colab": {}
      },
      "source": [
        "#import libraries\n",
        "import pandas as pd\n",
        "import numpy as np"
      ],
      "execution_count": 0,
      "outputs": []
    },
    {
      "cell_type": "code",
      "metadata": {
        "id": "4ekCE7e50cIT",
        "colab_type": "code",
        "colab": {}
      },
      "source": [
        "autos = pd.read_csv(\"/content/drive/My Drive/Data Science /Data/EbayCarSales/autos.csv\",encoding = \"Latin-1\")"
      ],
      "execution_count": 0,
      "outputs": []
    },
    {
      "cell_type": "code",
      "metadata": {
        "id": "BHImCAeN5fmC",
        "colab_type": "code",
        "outputId": "64089895-27db-4e3a-ccc7-dccb8be59185",
        "colab": {
          "base_uri": "https://localhost:8080/",
          "height": 442
        }
      },
      "source": [
        "autos.info()"
      ],
      "execution_count": 47,
      "outputs": [
        {
          "output_type": "stream",
          "text": [
            "<class 'pandas.core.frame.DataFrame'>\n",
            "RangeIndex: 50000 entries, 0 to 49999\n",
            "Data columns (total 20 columns):\n",
            "dateCrawled            50000 non-null object\n",
            "name                   50000 non-null object\n",
            "seller                 50000 non-null object\n",
            "offerType              50000 non-null object\n",
            "price                  50000 non-null object\n",
            "abtest                 50000 non-null object\n",
            "vehicleType            44905 non-null object\n",
            "yearOfRegistration     50000 non-null int64\n",
            "gearbox                47320 non-null object\n",
            "powerPS                50000 non-null int64\n",
            "model                  47242 non-null object\n",
            "odometer               50000 non-null object\n",
            "monthOfRegistration    50000 non-null int64\n",
            "fuelType               45518 non-null object\n",
            "brand                  50000 non-null object\n",
            "notRepairedDamage      40171 non-null object\n",
            "dateCreated            50000 non-null object\n",
            "nrOfPictures           50000 non-null int64\n",
            "postalCode             50000 non-null int64\n",
            "lastSeen               50000 non-null object\n",
            "dtypes: int64(5), object(15)\n",
            "memory usage: 7.6+ MB\n"
          ],
          "name": "stdout"
        }
      ]
    },
    {
      "cell_type": "code",
      "metadata": {
        "id": "_NPkJh_8-S2o",
        "colab_type": "code",
        "outputId": "b292ea85-6b3c-4e33-ab9b-aae326ec47b5",
        "colab": {
          "base_uri": "https://localhost:8080/",
          "height": 394
        }
      },
      "source": [
        "autos.head()"
      ],
      "execution_count": 48,
      "outputs": [
        {
          "output_type": "execute_result",
          "data": {
            "text/html": [
              "<div>\n",
              "<style scoped>\n",
              "    .dataframe tbody tr th:only-of-type {\n",
              "        vertical-align: middle;\n",
              "    }\n",
              "\n",
              "    .dataframe tbody tr th {\n",
              "        vertical-align: top;\n",
              "    }\n",
              "\n",
              "    .dataframe thead th {\n",
              "        text-align: right;\n",
              "    }\n",
              "</style>\n",
              "<table border=\"1\" class=\"dataframe\">\n",
              "  <thead>\n",
              "    <tr style=\"text-align: right;\">\n",
              "      <th></th>\n",
              "      <th>dateCrawled</th>\n",
              "      <th>name</th>\n",
              "      <th>seller</th>\n",
              "      <th>offerType</th>\n",
              "      <th>price</th>\n",
              "      <th>abtest</th>\n",
              "      <th>vehicleType</th>\n",
              "      <th>yearOfRegistration</th>\n",
              "      <th>gearbox</th>\n",
              "      <th>powerPS</th>\n",
              "      <th>model</th>\n",
              "      <th>odometer</th>\n",
              "      <th>monthOfRegistration</th>\n",
              "      <th>fuelType</th>\n",
              "      <th>brand</th>\n",
              "      <th>notRepairedDamage</th>\n",
              "      <th>dateCreated</th>\n",
              "      <th>nrOfPictures</th>\n",
              "      <th>postalCode</th>\n",
              "      <th>lastSeen</th>\n",
              "    </tr>\n",
              "  </thead>\n",
              "  <tbody>\n",
              "    <tr>\n",
              "      <th>0</th>\n",
              "      <td>2016-03-26 17:47:46</td>\n",
              "      <td>Peugeot_807_160_NAVTECH_ON_BOARD</td>\n",
              "      <td>privat</td>\n",
              "      <td>Angebot</td>\n",
              "      <td>$5,000</td>\n",
              "      <td>control</td>\n",
              "      <td>bus</td>\n",
              "      <td>2004</td>\n",
              "      <td>manuell</td>\n",
              "      <td>158</td>\n",
              "      <td>andere</td>\n",
              "      <td>150,000km</td>\n",
              "      <td>3</td>\n",
              "      <td>lpg</td>\n",
              "      <td>peugeot</td>\n",
              "      <td>nein</td>\n",
              "      <td>2016-03-26 00:00:00</td>\n",
              "      <td>0</td>\n",
              "      <td>79588</td>\n",
              "      <td>2016-04-06 06:45:54</td>\n",
              "    </tr>\n",
              "    <tr>\n",
              "      <th>1</th>\n",
              "      <td>2016-04-04 13:38:56</td>\n",
              "      <td>BMW_740i_4_4_Liter_HAMANN_UMBAU_Mega_Optik</td>\n",
              "      <td>privat</td>\n",
              "      <td>Angebot</td>\n",
              "      <td>$8,500</td>\n",
              "      <td>control</td>\n",
              "      <td>limousine</td>\n",
              "      <td>1997</td>\n",
              "      <td>automatik</td>\n",
              "      <td>286</td>\n",
              "      <td>7er</td>\n",
              "      <td>150,000km</td>\n",
              "      <td>6</td>\n",
              "      <td>benzin</td>\n",
              "      <td>bmw</td>\n",
              "      <td>nein</td>\n",
              "      <td>2016-04-04 00:00:00</td>\n",
              "      <td>0</td>\n",
              "      <td>71034</td>\n",
              "      <td>2016-04-06 14:45:08</td>\n",
              "    </tr>\n",
              "    <tr>\n",
              "      <th>2</th>\n",
              "      <td>2016-03-26 18:57:24</td>\n",
              "      <td>Volkswagen_Golf_1.6_United</td>\n",
              "      <td>privat</td>\n",
              "      <td>Angebot</td>\n",
              "      <td>$8,990</td>\n",
              "      <td>test</td>\n",
              "      <td>limousine</td>\n",
              "      <td>2009</td>\n",
              "      <td>manuell</td>\n",
              "      <td>102</td>\n",
              "      <td>golf</td>\n",
              "      <td>70,000km</td>\n",
              "      <td>7</td>\n",
              "      <td>benzin</td>\n",
              "      <td>volkswagen</td>\n",
              "      <td>nein</td>\n",
              "      <td>2016-03-26 00:00:00</td>\n",
              "      <td>0</td>\n",
              "      <td>35394</td>\n",
              "      <td>2016-04-06 20:15:37</td>\n",
              "    </tr>\n",
              "    <tr>\n",
              "      <th>3</th>\n",
              "      <td>2016-03-12 16:58:10</td>\n",
              "      <td>Smart_smart_fortwo_coupe_softouch/F1/Klima/Pan...</td>\n",
              "      <td>privat</td>\n",
              "      <td>Angebot</td>\n",
              "      <td>$4,350</td>\n",
              "      <td>control</td>\n",
              "      <td>kleinwagen</td>\n",
              "      <td>2007</td>\n",
              "      <td>automatik</td>\n",
              "      <td>71</td>\n",
              "      <td>fortwo</td>\n",
              "      <td>70,000km</td>\n",
              "      <td>6</td>\n",
              "      <td>benzin</td>\n",
              "      <td>smart</td>\n",
              "      <td>nein</td>\n",
              "      <td>2016-03-12 00:00:00</td>\n",
              "      <td>0</td>\n",
              "      <td>33729</td>\n",
              "      <td>2016-03-15 03:16:28</td>\n",
              "    </tr>\n",
              "    <tr>\n",
              "      <th>4</th>\n",
              "      <td>2016-04-01 14:38:50</td>\n",
              "      <td>Ford_Focus_1_6_Benzin_TÜV_neu_ist_sehr_gepfleg...</td>\n",
              "      <td>privat</td>\n",
              "      <td>Angebot</td>\n",
              "      <td>$1,350</td>\n",
              "      <td>test</td>\n",
              "      <td>kombi</td>\n",
              "      <td>2003</td>\n",
              "      <td>manuell</td>\n",
              "      <td>0</td>\n",
              "      <td>focus</td>\n",
              "      <td>150,000km</td>\n",
              "      <td>7</td>\n",
              "      <td>benzin</td>\n",
              "      <td>ford</td>\n",
              "      <td>nein</td>\n",
              "      <td>2016-04-01 00:00:00</td>\n",
              "      <td>0</td>\n",
              "      <td>39218</td>\n",
              "      <td>2016-04-01 14:38:50</td>\n",
              "    </tr>\n",
              "  </tbody>\n",
              "</table>\n",
              "</div>"
            ],
            "text/plain": [
              "           dateCrawled  ...             lastSeen\n",
              "0  2016-03-26 17:47:46  ...  2016-04-06 06:45:54\n",
              "1  2016-04-04 13:38:56  ...  2016-04-06 14:45:08\n",
              "2  2016-03-26 18:57:24  ...  2016-04-06 20:15:37\n",
              "3  2016-03-12 16:58:10  ...  2016-03-15 03:16:28\n",
              "4  2016-04-01 14:38:50  ...  2016-04-01 14:38:50\n",
              "\n",
              "[5 rows x 20 columns]"
            ]
          },
          "metadata": {
            "tags": []
          },
          "execution_count": 48
        }
      ]
    },
    {
      "cell_type": "code",
      "metadata": {
        "id": "iaSYXKnU-Zmx",
        "colab_type": "code",
        "outputId": "0142f401-59f1-481f-e472-57919c746e2a",
        "colab": {
          "base_uri": "https://localhost:8080/",
          "height": 297
        }
      },
      "source": [
        "autos.describe()"
      ],
      "execution_count": 49,
      "outputs": [
        {
          "output_type": "execute_result",
          "data": {
            "text/html": [
              "<div>\n",
              "<style scoped>\n",
              "    .dataframe tbody tr th:only-of-type {\n",
              "        vertical-align: middle;\n",
              "    }\n",
              "\n",
              "    .dataframe tbody tr th {\n",
              "        vertical-align: top;\n",
              "    }\n",
              "\n",
              "    .dataframe thead th {\n",
              "        text-align: right;\n",
              "    }\n",
              "</style>\n",
              "<table border=\"1\" class=\"dataframe\">\n",
              "  <thead>\n",
              "    <tr style=\"text-align: right;\">\n",
              "      <th></th>\n",
              "      <th>yearOfRegistration</th>\n",
              "      <th>powerPS</th>\n",
              "      <th>monthOfRegistration</th>\n",
              "      <th>nrOfPictures</th>\n",
              "      <th>postalCode</th>\n",
              "    </tr>\n",
              "  </thead>\n",
              "  <tbody>\n",
              "    <tr>\n",
              "      <th>count</th>\n",
              "      <td>50000.000000</td>\n",
              "      <td>50000.000000</td>\n",
              "      <td>50000.000000</td>\n",
              "      <td>50000.0</td>\n",
              "      <td>50000.000000</td>\n",
              "    </tr>\n",
              "    <tr>\n",
              "      <th>mean</th>\n",
              "      <td>2005.073280</td>\n",
              "      <td>116.355920</td>\n",
              "      <td>5.723360</td>\n",
              "      <td>0.0</td>\n",
              "      <td>50813.627300</td>\n",
              "    </tr>\n",
              "    <tr>\n",
              "      <th>std</th>\n",
              "      <td>105.712813</td>\n",
              "      <td>209.216627</td>\n",
              "      <td>3.711984</td>\n",
              "      <td>0.0</td>\n",
              "      <td>25779.747957</td>\n",
              "    </tr>\n",
              "    <tr>\n",
              "      <th>min</th>\n",
              "      <td>1000.000000</td>\n",
              "      <td>0.000000</td>\n",
              "      <td>0.000000</td>\n",
              "      <td>0.0</td>\n",
              "      <td>1067.000000</td>\n",
              "    </tr>\n",
              "    <tr>\n",
              "      <th>25%</th>\n",
              "      <td>1999.000000</td>\n",
              "      <td>70.000000</td>\n",
              "      <td>3.000000</td>\n",
              "      <td>0.0</td>\n",
              "      <td>30451.000000</td>\n",
              "    </tr>\n",
              "    <tr>\n",
              "      <th>50%</th>\n",
              "      <td>2003.000000</td>\n",
              "      <td>105.000000</td>\n",
              "      <td>6.000000</td>\n",
              "      <td>0.0</td>\n",
              "      <td>49577.000000</td>\n",
              "    </tr>\n",
              "    <tr>\n",
              "      <th>75%</th>\n",
              "      <td>2008.000000</td>\n",
              "      <td>150.000000</td>\n",
              "      <td>9.000000</td>\n",
              "      <td>0.0</td>\n",
              "      <td>71540.000000</td>\n",
              "    </tr>\n",
              "    <tr>\n",
              "      <th>max</th>\n",
              "      <td>9999.000000</td>\n",
              "      <td>17700.000000</td>\n",
              "      <td>12.000000</td>\n",
              "      <td>0.0</td>\n",
              "      <td>99998.000000</td>\n",
              "    </tr>\n",
              "  </tbody>\n",
              "</table>\n",
              "</div>"
            ],
            "text/plain": [
              "       yearOfRegistration       powerPS  ...  nrOfPictures    postalCode\n",
              "count        50000.000000  50000.000000  ...       50000.0  50000.000000\n",
              "mean          2005.073280    116.355920  ...           0.0  50813.627300\n",
              "std            105.712813    209.216627  ...           0.0  25779.747957\n",
              "min           1000.000000      0.000000  ...           0.0   1067.000000\n",
              "25%           1999.000000     70.000000  ...           0.0  30451.000000\n",
              "50%           2003.000000    105.000000  ...           0.0  49577.000000\n",
              "75%           2008.000000    150.000000  ...           0.0  71540.000000\n",
              "max           9999.000000  17700.000000  ...           0.0  99998.000000\n",
              "\n",
              "[8 rows x 5 columns]"
            ]
          },
          "metadata": {
            "tags": []
          },
          "execution_count": 49
        }
      ]
    },
    {
      "cell_type": "code",
      "metadata": {
        "id": "1W51inos9SQ6",
        "colab_type": "code",
        "outputId": "8f1b34a3-6395-4398-c7de-530068e9109f",
        "colab": {
          "base_uri": "https://localhost:8080/",
          "height": 119
        }
      },
      "source": [
        "autos.columns"
      ],
      "execution_count": 50,
      "outputs": [
        {
          "output_type": "execute_result",
          "data": {
            "text/plain": [
              "Index(['dateCrawled', 'name', 'seller', 'offerType', 'price', 'abtest',\n",
              "       'vehicleType', 'yearOfRegistration', 'gearbox', 'powerPS', 'model',\n",
              "       'odometer', 'monthOfRegistration', 'fuelType', 'brand',\n",
              "       'notRepairedDamage', 'dateCreated', 'nrOfPictures', 'postalCode',\n",
              "       'lastSeen'],\n",
              "      dtype='object')"
            ]
          },
          "metadata": {
            "tags": []
          },
          "execution_count": 50
        }
      ]
    },
    {
      "cell_type": "markdown",
      "metadata": {
        "id": "vFbJNjbj9yYM",
        "colab_type": "text"
      },
      "source": [
        "\n",
        "\n",
        "---\n",
        "\n",
        "\n",
        "We will make a few changes here \n",
        "* yearOfRegistration to registration_year\n",
        "* monthOfRegistration to registration_month\n",
        "* notRepairedDamage to unrepaired_damage\n",
        "* dateCreated to ad_created\n",
        "* The rest of the columnn names from camelcase to snakecase.\n"
      ]
    },
    {
      "cell_type": "code",
      "metadata": {
        "id": "q7YKiGS4-Dn1",
        "colab_type": "code",
        "outputId": "3b7e4dca-0f4f-4df7-f4cc-2ff3b68348e0",
        "colab": {
          "base_uri": "https://localhost:8080/",
          "height": 394
        }
      },
      "source": [
        "autos.columns = ['date_crawled', 'name', 'seller', 'offer_type', 'price', 'ab_test',\n",
        "       'vehicle_type', 'registration_year', 'gearbox', 'power_ps', 'model',\n",
        "       'odometer', 'registration_month', 'fuel_type', 'brand',\n",
        "       'unrepaired_damage', 'ad_created', 'num_photos', 'postal_code',\n",
        "       'last_seen']\n",
        "autos.head()"
      ],
      "execution_count": 51,
      "outputs": [
        {
          "output_type": "execute_result",
          "data": {
            "text/html": [
              "<div>\n",
              "<style scoped>\n",
              "    .dataframe tbody tr th:only-of-type {\n",
              "        vertical-align: middle;\n",
              "    }\n",
              "\n",
              "    .dataframe tbody tr th {\n",
              "        vertical-align: top;\n",
              "    }\n",
              "\n",
              "    .dataframe thead th {\n",
              "        text-align: right;\n",
              "    }\n",
              "</style>\n",
              "<table border=\"1\" class=\"dataframe\">\n",
              "  <thead>\n",
              "    <tr style=\"text-align: right;\">\n",
              "      <th></th>\n",
              "      <th>date_crawled</th>\n",
              "      <th>name</th>\n",
              "      <th>seller</th>\n",
              "      <th>offer_type</th>\n",
              "      <th>price</th>\n",
              "      <th>ab_test</th>\n",
              "      <th>vehicle_type</th>\n",
              "      <th>registration_year</th>\n",
              "      <th>gearbox</th>\n",
              "      <th>power_ps</th>\n",
              "      <th>model</th>\n",
              "      <th>odometer</th>\n",
              "      <th>registration_month</th>\n",
              "      <th>fuel_type</th>\n",
              "      <th>brand</th>\n",
              "      <th>unrepaired_damage</th>\n",
              "      <th>ad_created</th>\n",
              "      <th>num_photos</th>\n",
              "      <th>postal_code</th>\n",
              "      <th>last_seen</th>\n",
              "    </tr>\n",
              "  </thead>\n",
              "  <tbody>\n",
              "    <tr>\n",
              "      <th>0</th>\n",
              "      <td>2016-03-26 17:47:46</td>\n",
              "      <td>Peugeot_807_160_NAVTECH_ON_BOARD</td>\n",
              "      <td>privat</td>\n",
              "      <td>Angebot</td>\n",
              "      <td>$5,000</td>\n",
              "      <td>control</td>\n",
              "      <td>bus</td>\n",
              "      <td>2004</td>\n",
              "      <td>manuell</td>\n",
              "      <td>158</td>\n",
              "      <td>andere</td>\n",
              "      <td>150,000km</td>\n",
              "      <td>3</td>\n",
              "      <td>lpg</td>\n",
              "      <td>peugeot</td>\n",
              "      <td>nein</td>\n",
              "      <td>2016-03-26 00:00:00</td>\n",
              "      <td>0</td>\n",
              "      <td>79588</td>\n",
              "      <td>2016-04-06 06:45:54</td>\n",
              "    </tr>\n",
              "    <tr>\n",
              "      <th>1</th>\n",
              "      <td>2016-04-04 13:38:56</td>\n",
              "      <td>BMW_740i_4_4_Liter_HAMANN_UMBAU_Mega_Optik</td>\n",
              "      <td>privat</td>\n",
              "      <td>Angebot</td>\n",
              "      <td>$8,500</td>\n",
              "      <td>control</td>\n",
              "      <td>limousine</td>\n",
              "      <td>1997</td>\n",
              "      <td>automatik</td>\n",
              "      <td>286</td>\n",
              "      <td>7er</td>\n",
              "      <td>150,000km</td>\n",
              "      <td>6</td>\n",
              "      <td>benzin</td>\n",
              "      <td>bmw</td>\n",
              "      <td>nein</td>\n",
              "      <td>2016-04-04 00:00:00</td>\n",
              "      <td>0</td>\n",
              "      <td>71034</td>\n",
              "      <td>2016-04-06 14:45:08</td>\n",
              "    </tr>\n",
              "    <tr>\n",
              "      <th>2</th>\n",
              "      <td>2016-03-26 18:57:24</td>\n",
              "      <td>Volkswagen_Golf_1.6_United</td>\n",
              "      <td>privat</td>\n",
              "      <td>Angebot</td>\n",
              "      <td>$8,990</td>\n",
              "      <td>test</td>\n",
              "      <td>limousine</td>\n",
              "      <td>2009</td>\n",
              "      <td>manuell</td>\n",
              "      <td>102</td>\n",
              "      <td>golf</td>\n",
              "      <td>70,000km</td>\n",
              "      <td>7</td>\n",
              "      <td>benzin</td>\n",
              "      <td>volkswagen</td>\n",
              "      <td>nein</td>\n",
              "      <td>2016-03-26 00:00:00</td>\n",
              "      <td>0</td>\n",
              "      <td>35394</td>\n",
              "      <td>2016-04-06 20:15:37</td>\n",
              "    </tr>\n",
              "    <tr>\n",
              "      <th>3</th>\n",
              "      <td>2016-03-12 16:58:10</td>\n",
              "      <td>Smart_smart_fortwo_coupe_softouch/F1/Klima/Pan...</td>\n",
              "      <td>privat</td>\n",
              "      <td>Angebot</td>\n",
              "      <td>$4,350</td>\n",
              "      <td>control</td>\n",
              "      <td>kleinwagen</td>\n",
              "      <td>2007</td>\n",
              "      <td>automatik</td>\n",
              "      <td>71</td>\n",
              "      <td>fortwo</td>\n",
              "      <td>70,000km</td>\n",
              "      <td>6</td>\n",
              "      <td>benzin</td>\n",
              "      <td>smart</td>\n",
              "      <td>nein</td>\n",
              "      <td>2016-03-12 00:00:00</td>\n",
              "      <td>0</td>\n",
              "      <td>33729</td>\n",
              "      <td>2016-03-15 03:16:28</td>\n",
              "    </tr>\n",
              "    <tr>\n",
              "      <th>4</th>\n",
              "      <td>2016-04-01 14:38:50</td>\n",
              "      <td>Ford_Focus_1_6_Benzin_TÜV_neu_ist_sehr_gepfleg...</td>\n",
              "      <td>privat</td>\n",
              "      <td>Angebot</td>\n",
              "      <td>$1,350</td>\n",
              "      <td>test</td>\n",
              "      <td>kombi</td>\n",
              "      <td>2003</td>\n",
              "      <td>manuell</td>\n",
              "      <td>0</td>\n",
              "      <td>focus</td>\n",
              "      <td>150,000km</td>\n",
              "      <td>7</td>\n",
              "      <td>benzin</td>\n",
              "      <td>ford</td>\n",
              "      <td>nein</td>\n",
              "      <td>2016-04-01 00:00:00</td>\n",
              "      <td>0</td>\n",
              "      <td>39218</td>\n",
              "      <td>2016-04-01 14:38:50</td>\n",
              "    </tr>\n",
              "  </tbody>\n",
              "</table>\n",
              "</div>"
            ],
            "text/plain": [
              "          date_crawled  ...            last_seen\n",
              "0  2016-03-26 17:47:46  ...  2016-04-06 06:45:54\n",
              "1  2016-04-04 13:38:56  ...  2016-04-06 14:45:08\n",
              "2  2016-03-26 18:57:24  ...  2016-04-06 20:15:37\n",
              "3  2016-03-12 16:58:10  ...  2016-03-15 03:16:28\n",
              "4  2016-04-01 14:38:50  ...  2016-04-01 14:38:50\n",
              "\n",
              "[5 rows x 20 columns]"
            ]
          },
          "metadata": {
            "tags": []
          },
          "execution_count": 51
        }
      ]
    },
    {
      "cell_type": "code",
      "metadata": {
        "id": "8FD0gYNG_tUp",
        "colab_type": "code",
        "outputId": "b32c5838-4d37-46b0-a02b-91b50a8b16cf",
        "colab": {
          "base_uri": "https://localhost:8080/",
          "height": 444
        }
      },
      "source": [
        "autos.describe(include = \"all\") # to get both categorical and numberical data\n"
      ],
      "execution_count": 52,
      "outputs": [
        {
          "output_type": "execute_result",
          "data": {
            "text/html": [
              "<div>\n",
              "<style scoped>\n",
              "    .dataframe tbody tr th:only-of-type {\n",
              "        vertical-align: middle;\n",
              "    }\n",
              "\n",
              "    .dataframe tbody tr th {\n",
              "        vertical-align: top;\n",
              "    }\n",
              "\n",
              "    .dataframe thead th {\n",
              "        text-align: right;\n",
              "    }\n",
              "</style>\n",
              "<table border=\"1\" class=\"dataframe\">\n",
              "  <thead>\n",
              "    <tr style=\"text-align: right;\">\n",
              "      <th></th>\n",
              "      <th>date_crawled</th>\n",
              "      <th>name</th>\n",
              "      <th>seller</th>\n",
              "      <th>offer_type</th>\n",
              "      <th>price</th>\n",
              "      <th>ab_test</th>\n",
              "      <th>vehicle_type</th>\n",
              "      <th>registration_year</th>\n",
              "      <th>gearbox</th>\n",
              "      <th>power_ps</th>\n",
              "      <th>model</th>\n",
              "      <th>odometer</th>\n",
              "      <th>registration_month</th>\n",
              "      <th>fuel_type</th>\n",
              "      <th>brand</th>\n",
              "      <th>unrepaired_damage</th>\n",
              "      <th>ad_created</th>\n",
              "      <th>num_photos</th>\n",
              "      <th>postal_code</th>\n",
              "      <th>last_seen</th>\n",
              "    </tr>\n",
              "  </thead>\n",
              "  <tbody>\n",
              "    <tr>\n",
              "      <th>count</th>\n",
              "      <td>50000</td>\n",
              "      <td>50000</td>\n",
              "      <td>50000</td>\n",
              "      <td>50000</td>\n",
              "      <td>50000</td>\n",
              "      <td>50000</td>\n",
              "      <td>44905</td>\n",
              "      <td>50000.000000</td>\n",
              "      <td>47320</td>\n",
              "      <td>50000.000000</td>\n",
              "      <td>47242</td>\n",
              "      <td>50000</td>\n",
              "      <td>50000.000000</td>\n",
              "      <td>45518</td>\n",
              "      <td>50000</td>\n",
              "      <td>40171</td>\n",
              "      <td>50000</td>\n",
              "      <td>50000.0</td>\n",
              "      <td>50000.000000</td>\n",
              "      <td>50000</td>\n",
              "    </tr>\n",
              "    <tr>\n",
              "      <th>unique</th>\n",
              "      <td>48213</td>\n",
              "      <td>38754</td>\n",
              "      <td>2</td>\n",
              "      <td>2</td>\n",
              "      <td>2357</td>\n",
              "      <td>2</td>\n",
              "      <td>8</td>\n",
              "      <td>NaN</td>\n",
              "      <td>2</td>\n",
              "      <td>NaN</td>\n",
              "      <td>245</td>\n",
              "      <td>13</td>\n",
              "      <td>NaN</td>\n",
              "      <td>7</td>\n",
              "      <td>40</td>\n",
              "      <td>2</td>\n",
              "      <td>76</td>\n",
              "      <td>NaN</td>\n",
              "      <td>NaN</td>\n",
              "      <td>39481</td>\n",
              "    </tr>\n",
              "    <tr>\n",
              "      <th>top</th>\n",
              "      <td>2016-03-10 15:36:24</td>\n",
              "      <td>Ford_Fiesta</td>\n",
              "      <td>privat</td>\n",
              "      <td>Angebot</td>\n",
              "      <td>$0</td>\n",
              "      <td>test</td>\n",
              "      <td>limousine</td>\n",
              "      <td>NaN</td>\n",
              "      <td>manuell</td>\n",
              "      <td>NaN</td>\n",
              "      <td>golf</td>\n",
              "      <td>150,000km</td>\n",
              "      <td>NaN</td>\n",
              "      <td>benzin</td>\n",
              "      <td>volkswagen</td>\n",
              "      <td>nein</td>\n",
              "      <td>2016-04-03 00:00:00</td>\n",
              "      <td>NaN</td>\n",
              "      <td>NaN</td>\n",
              "      <td>2016-04-07 06:17:27</td>\n",
              "    </tr>\n",
              "    <tr>\n",
              "      <th>freq</th>\n",
              "      <td>3</td>\n",
              "      <td>78</td>\n",
              "      <td>49999</td>\n",
              "      <td>49999</td>\n",
              "      <td>1421</td>\n",
              "      <td>25756</td>\n",
              "      <td>12859</td>\n",
              "      <td>NaN</td>\n",
              "      <td>36993</td>\n",
              "      <td>NaN</td>\n",
              "      <td>4024</td>\n",
              "      <td>32424</td>\n",
              "      <td>NaN</td>\n",
              "      <td>30107</td>\n",
              "      <td>10687</td>\n",
              "      <td>35232</td>\n",
              "      <td>1946</td>\n",
              "      <td>NaN</td>\n",
              "      <td>NaN</td>\n",
              "      <td>8</td>\n",
              "    </tr>\n",
              "    <tr>\n",
              "      <th>mean</th>\n",
              "      <td>NaN</td>\n",
              "      <td>NaN</td>\n",
              "      <td>NaN</td>\n",
              "      <td>NaN</td>\n",
              "      <td>NaN</td>\n",
              "      <td>NaN</td>\n",
              "      <td>NaN</td>\n",
              "      <td>2005.073280</td>\n",
              "      <td>NaN</td>\n",
              "      <td>116.355920</td>\n",
              "      <td>NaN</td>\n",
              "      <td>NaN</td>\n",
              "      <td>5.723360</td>\n",
              "      <td>NaN</td>\n",
              "      <td>NaN</td>\n",
              "      <td>NaN</td>\n",
              "      <td>NaN</td>\n",
              "      <td>0.0</td>\n",
              "      <td>50813.627300</td>\n",
              "      <td>NaN</td>\n",
              "    </tr>\n",
              "    <tr>\n",
              "      <th>std</th>\n",
              "      <td>NaN</td>\n",
              "      <td>NaN</td>\n",
              "      <td>NaN</td>\n",
              "      <td>NaN</td>\n",
              "      <td>NaN</td>\n",
              "      <td>NaN</td>\n",
              "      <td>NaN</td>\n",
              "      <td>105.712813</td>\n",
              "      <td>NaN</td>\n",
              "      <td>209.216627</td>\n",
              "      <td>NaN</td>\n",
              "      <td>NaN</td>\n",
              "      <td>3.711984</td>\n",
              "      <td>NaN</td>\n",
              "      <td>NaN</td>\n",
              "      <td>NaN</td>\n",
              "      <td>NaN</td>\n",
              "      <td>0.0</td>\n",
              "      <td>25779.747957</td>\n",
              "      <td>NaN</td>\n",
              "    </tr>\n",
              "    <tr>\n",
              "      <th>min</th>\n",
              "      <td>NaN</td>\n",
              "      <td>NaN</td>\n",
              "      <td>NaN</td>\n",
              "      <td>NaN</td>\n",
              "      <td>NaN</td>\n",
              "      <td>NaN</td>\n",
              "      <td>NaN</td>\n",
              "      <td>1000.000000</td>\n",
              "      <td>NaN</td>\n",
              "      <td>0.000000</td>\n",
              "      <td>NaN</td>\n",
              "      <td>NaN</td>\n",
              "      <td>0.000000</td>\n",
              "      <td>NaN</td>\n",
              "      <td>NaN</td>\n",
              "      <td>NaN</td>\n",
              "      <td>NaN</td>\n",
              "      <td>0.0</td>\n",
              "      <td>1067.000000</td>\n",
              "      <td>NaN</td>\n",
              "    </tr>\n",
              "    <tr>\n",
              "      <th>25%</th>\n",
              "      <td>NaN</td>\n",
              "      <td>NaN</td>\n",
              "      <td>NaN</td>\n",
              "      <td>NaN</td>\n",
              "      <td>NaN</td>\n",
              "      <td>NaN</td>\n",
              "      <td>NaN</td>\n",
              "      <td>1999.000000</td>\n",
              "      <td>NaN</td>\n",
              "      <td>70.000000</td>\n",
              "      <td>NaN</td>\n",
              "      <td>NaN</td>\n",
              "      <td>3.000000</td>\n",
              "      <td>NaN</td>\n",
              "      <td>NaN</td>\n",
              "      <td>NaN</td>\n",
              "      <td>NaN</td>\n",
              "      <td>0.0</td>\n",
              "      <td>30451.000000</td>\n",
              "      <td>NaN</td>\n",
              "    </tr>\n",
              "    <tr>\n",
              "      <th>50%</th>\n",
              "      <td>NaN</td>\n",
              "      <td>NaN</td>\n",
              "      <td>NaN</td>\n",
              "      <td>NaN</td>\n",
              "      <td>NaN</td>\n",
              "      <td>NaN</td>\n",
              "      <td>NaN</td>\n",
              "      <td>2003.000000</td>\n",
              "      <td>NaN</td>\n",
              "      <td>105.000000</td>\n",
              "      <td>NaN</td>\n",
              "      <td>NaN</td>\n",
              "      <td>6.000000</td>\n",
              "      <td>NaN</td>\n",
              "      <td>NaN</td>\n",
              "      <td>NaN</td>\n",
              "      <td>NaN</td>\n",
              "      <td>0.0</td>\n",
              "      <td>49577.000000</td>\n",
              "      <td>NaN</td>\n",
              "    </tr>\n",
              "    <tr>\n",
              "      <th>75%</th>\n",
              "      <td>NaN</td>\n",
              "      <td>NaN</td>\n",
              "      <td>NaN</td>\n",
              "      <td>NaN</td>\n",
              "      <td>NaN</td>\n",
              "      <td>NaN</td>\n",
              "      <td>NaN</td>\n",
              "      <td>2008.000000</td>\n",
              "      <td>NaN</td>\n",
              "      <td>150.000000</td>\n",
              "      <td>NaN</td>\n",
              "      <td>NaN</td>\n",
              "      <td>9.000000</td>\n",
              "      <td>NaN</td>\n",
              "      <td>NaN</td>\n",
              "      <td>NaN</td>\n",
              "      <td>NaN</td>\n",
              "      <td>0.0</td>\n",
              "      <td>71540.000000</td>\n",
              "      <td>NaN</td>\n",
              "    </tr>\n",
              "    <tr>\n",
              "      <th>max</th>\n",
              "      <td>NaN</td>\n",
              "      <td>NaN</td>\n",
              "      <td>NaN</td>\n",
              "      <td>NaN</td>\n",
              "      <td>NaN</td>\n",
              "      <td>NaN</td>\n",
              "      <td>NaN</td>\n",
              "      <td>9999.000000</td>\n",
              "      <td>NaN</td>\n",
              "      <td>17700.000000</td>\n",
              "      <td>NaN</td>\n",
              "      <td>NaN</td>\n",
              "      <td>12.000000</td>\n",
              "      <td>NaN</td>\n",
              "      <td>NaN</td>\n",
              "      <td>NaN</td>\n",
              "      <td>NaN</td>\n",
              "      <td>0.0</td>\n",
              "      <td>99998.000000</td>\n",
              "      <td>NaN</td>\n",
              "    </tr>\n",
              "  </tbody>\n",
              "</table>\n",
              "</div>"
            ],
            "text/plain": [
              "               date_crawled         name  ...   postal_code            last_seen\n",
              "count                 50000        50000  ...  50000.000000                50000\n",
              "unique                48213        38754  ...           NaN                39481\n",
              "top     2016-03-10 15:36:24  Ford_Fiesta  ...           NaN  2016-04-07 06:17:27\n",
              "freq                      3           78  ...           NaN                    8\n",
              "mean                    NaN          NaN  ...  50813.627300                  NaN\n",
              "std                     NaN          NaN  ...  25779.747957                  NaN\n",
              "min                     NaN          NaN  ...   1067.000000                  NaN\n",
              "25%                     NaN          NaN  ...  30451.000000                  NaN\n",
              "50%                     NaN          NaN  ...  49577.000000                  NaN\n",
              "75%                     NaN          NaN  ...  71540.000000                  NaN\n",
              "max                     NaN          NaN  ...  99998.000000                  NaN\n",
              "\n",
              "[11 rows x 20 columns]"
            ]
          },
          "metadata": {
            "tags": []
          },
          "execution_count": 52
        }
      ]
    },
    {
      "cell_type": "code",
      "metadata": {
        "id": "jLv47MxWAdkY",
        "colab_type": "code",
        "outputId": "36468857-b94b-46ca-f1ce-139c36f45a0d",
        "colab": {
          "base_uri": "https://localhost:8080/",
          "height": 297
        }
      },
      "source": [
        "autos.describe()"
      ],
      "execution_count": 53,
      "outputs": [
        {
          "output_type": "execute_result",
          "data": {
            "text/html": [
              "<div>\n",
              "<style scoped>\n",
              "    .dataframe tbody tr th:only-of-type {\n",
              "        vertical-align: middle;\n",
              "    }\n",
              "\n",
              "    .dataframe tbody tr th {\n",
              "        vertical-align: top;\n",
              "    }\n",
              "\n",
              "    .dataframe thead th {\n",
              "        text-align: right;\n",
              "    }\n",
              "</style>\n",
              "<table border=\"1\" class=\"dataframe\">\n",
              "  <thead>\n",
              "    <tr style=\"text-align: right;\">\n",
              "      <th></th>\n",
              "      <th>registration_year</th>\n",
              "      <th>power_ps</th>\n",
              "      <th>registration_month</th>\n",
              "      <th>num_photos</th>\n",
              "      <th>postal_code</th>\n",
              "    </tr>\n",
              "  </thead>\n",
              "  <tbody>\n",
              "    <tr>\n",
              "      <th>count</th>\n",
              "      <td>50000.000000</td>\n",
              "      <td>50000.000000</td>\n",
              "      <td>50000.000000</td>\n",
              "      <td>50000.0</td>\n",
              "      <td>50000.000000</td>\n",
              "    </tr>\n",
              "    <tr>\n",
              "      <th>mean</th>\n",
              "      <td>2005.073280</td>\n",
              "      <td>116.355920</td>\n",
              "      <td>5.723360</td>\n",
              "      <td>0.0</td>\n",
              "      <td>50813.627300</td>\n",
              "    </tr>\n",
              "    <tr>\n",
              "      <th>std</th>\n",
              "      <td>105.712813</td>\n",
              "      <td>209.216627</td>\n",
              "      <td>3.711984</td>\n",
              "      <td>0.0</td>\n",
              "      <td>25779.747957</td>\n",
              "    </tr>\n",
              "    <tr>\n",
              "      <th>min</th>\n",
              "      <td>1000.000000</td>\n",
              "      <td>0.000000</td>\n",
              "      <td>0.000000</td>\n",
              "      <td>0.0</td>\n",
              "      <td>1067.000000</td>\n",
              "    </tr>\n",
              "    <tr>\n",
              "      <th>25%</th>\n",
              "      <td>1999.000000</td>\n",
              "      <td>70.000000</td>\n",
              "      <td>3.000000</td>\n",
              "      <td>0.0</td>\n",
              "      <td>30451.000000</td>\n",
              "    </tr>\n",
              "    <tr>\n",
              "      <th>50%</th>\n",
              "      <td>2003.000000</td>\n",
              "      <td>105.000000</td>\n",
              "      <td>6.000000</td>\n",
              "      <td>0.0</td>\n",
              "      <td>49577.000000</td>\n",
              "    </tr>\n",
              "    <tr>\n",
              "      <th>75%</th>\n",
              "      <td>2008.000000</td>\n",
              "      <td>150.000000</td>\n",
              "      <td>9.000000</td>\n",
              "      <td>0.0</td>\n",
              "      <td>71540.000000</td>\n",
              "    </tr>\n",
              "    <tr>\n",
              "      <th>max</th>\n",
              "      <td>9999.000000</td>\n",
              "      <td>17700.000000</td>\n",
              "      <td>12.000000</td>\n",
              "      <td>0.0</td>\n",
              "      <td>99998.000000</td>\n",
              "    </tr>\n",
              "  </tbody>\n",
              "</table>\n",
              "</div>"
            ],
            "text/plain": [
              "       registration_year      power_ps  ...  num_photos   postal_code\n",
              "count       50000.000000  50000.000000  ...     50000.0  50000.000000\n",
              "mean         2005.073280    116.355920  ...         0.0  50813.627300\n",
              "std           105.712813    209.216627  ...         0.0  25779.747957\n",
              "min          1000.000000      0.000000  ...         0.0   1067.000000\n",
              "25%          1999.000000     70.000000  ...         0.0  30451.000000\n",
              "50%          2003.000000    105.000000  ...         0.0  49577.000000\n",
              "75%          2008.000000    150.000000  ...         0.0  71540.000000\n",
              "max          9999.000000  17700.000000  ...         0.0  99998.000000\n",
              "\n",
              "[8 rows x 5 columns]"
            ]
          },
          "metadata": {
            "tags": []
          },
          "execution_count": 53
        }
      ]
    },
    {
      "cell_type": "markdown",
      "metadata": {
        "id": "pEOpiuieA8sM",
        "colab_type": "text"
      },
      "source": [
        "\n",
        "\n",
        "---\n",
        "\n",
        "Observations:\n",
        "1. price can be a numerical column if $ sign is removed\n",
        "2. odometer can be a numerical column if km is removed from its values\n",
        "3. registration_year has max value of 9999. \n",
        "4. num_photos is 0 for all cars\n",
        "5. minimum registration month is 0\n"
      ]
    },
    {
      "cell_type": "code",
      "metadata": {
        "id": "EaTAd8v3EbMv",
        "colab_type": "code",
        "outputId": "20c9c77c-cacb-47bc-8759-1c8e0236b7d0",
        "colab": {
          "base_uri": "https://localhost:8080/",
          "height": 51
        }
      },
      "source": [
        "autos[\"num_photos\"].value_counts()"
      ],
      "execution_count": 54,
      "outputs": [
        {
          "output_type": "execute_result",
          "data": {
            "text/plain": [
              "0    50000\n",
              "Name: num_photos, dtype: int64"
            ]
          },
          "metadata": {
            "tags": []
          },
          "execution_count": 54
        }
      ]
    },
    {
      "cell_type": "markdown",
      "metadata": {
        "id": "aD0_8TSCFzi6",
        "colab_type": "text"
      },
      "source": [
        "Num_photos has only 1 value - 0. Therefore it can be dropped"
      ]
    },
    {
      "cell_type": "code",
      "metadata": {
        "id": "ZmKnc5eJEmzG",
        "colab_type": "code",
        "outputId": "0ac69ec4-9795-463b-a0f0-fa9d7896bbe2",
        "colab": {
          "base_uri": "https://localhost:8080/",
          "height": 68
        }
      },
      "source": [
        "autos[\"seller\"].value_counts()"
      ],
      "execution_count": 55,
      "outputs": [
        {
          "output_type": "execute_result",
          "data": {
            "text/plain": [
              "privat        49999\n",
              "gewerblich        1\n",
              "Name: seller, dtype: int64"
            ]
          },
          "metadata": {
            "tags": []
          },
          "execution_count": 55
        }
      ]
    },
    {
      "cell_type": "code",
      "metadata": {
        "id": "oGYEV1hDEyY-",
        "colab_type": "code",
        "outputId": "b0809051-b550-4e15-c290-12bb1585e9b7",
        "colab": {
          "base_uri": "https://localhost:8080/",
          "height": 68
        }
      },
      "source": [
        "autos[\"offer_type\"].value_counts()"
      ],
      "execution_count": 56,
      "outputs": [
        {
          "output_type": "execute_result",
          "data": {
            "text/plain": [
              "Angebot    49999\n",
              "Gesuch         1\n",
              "Name: offer_type, dtype: int64"
            ]
          },
          "metadata": {
            "tags": []
          },
          "execution_count": 56
        }
      ]
    },
    {
      "cell_type": "markdown",
      "metadata": {
        "id": "axS4QB3SF-DI",
        "colab_type": "text"
      },
      "source": [
        "Offer_type and seller also have mostly same value so they can be dropped too."
      ]
    },
    {
      "cell_type": "code",
      "metadata": {
        "id": "AlCKkZTXE9-a",
        "colab_type": "code",
        "outputId": "3cdd4ec1-d088-43e7-cbb9-620d435275a5",
        "colab": {
          "base_uri": "https://localhost:8080/",
          "height": 329
        }
      },
      "source": [
        "autos[autos[\"registration_year\"] == 9999]"
      ],
      "execution_count": 57,
      "outputs": [
        {
          "output_type": "execute_result",
          "data": {
            "text/html": [
              "<div>\n",
              "<style scoped>\n",
              "    .dataframe tbody tr th:only-of-type {\n",
              "        vertical-align: middle;\n",
              "    }\n",
              "\n",
              "    .dataframe tbody tr th {\n",
              "        vertical-align: top;\n",
              "    }\n",
              "\n",
              "    .dataframe thead th {\n",
              "        text-align: right;\n",
              "    }\n",
              "</style>\n",
              "<table border=\"1\" class=\"dataframe\">\n",
              "  <thead>\n",
              "    <tr style=\"text-align: right;\">\n",
              "      <th></th>\n",
              "      <th>date_crawled</th>\n",
              "      <th>name</th>\n",
              "      <th>seller</th>\n",
              "      <th>offer_type</th>\n",
              "      <th>price</th>\n",
              "      <th>ab_test</th>\n",
              "      <th>vehicle_type</th>\n",
              "      <th>registration_year</th>\n",
              "      <th>gearbox</th>\n",
              "      <th>power_ps</th>\n",
              "      <th>model</th>\n",
              "      <th>odometer</th>\n",
              "      <th>registration_month</th>\n",
              "      <th>fuel_type</th>\n",
              "      <th>brand</th>\n",
              "      <th>unrepaired_damage</th>\n",
              "      <th>ad_created</th>\n",
              "      <th>num_photos</th>\n",
              "      <th>postal_code</th>\n",
              "      <th>last_seen</th>\n",
              "    </tr>\n",
              "  </thead>\n",
              "  <tbody>\n",
              "    <tr>\n",
              "      <th>8012</th>\n",
              "      <td>2016-03-23 16:43:29</td>\n",
              "      <td>Opel_GT_Karosserie_mit_Brief!</td>\n",
              "      <td>privat</td>\n",
              "      <td>Angebot</td>\n",
              "      <td>$700</td>\n",
              "      <td>test</td>\n",
              "      <td>NaN</td>\n",
              "      <td>9999</td>\n",
              "      <td>NaN</td>\n",
              "      <td>0</td>\n",
              "      <td>andere</td>\n",
              "      <td>10,000km</td>\n",
              "      <td>0</td>\n",
              "      <td>NaN</td>\n",
              "      <td>opel</td>\n",
              "      <td>NaN</td>\n",
              "      <td>2016-03-23 00:00:00</td>\n",
              "      <td>0</td>\n",
              "      <td>21769</td>\n",
              "      <td>2016-04-05 20:16:15</td>\n",
              "    </tr>\n",
              "    <tr>\n",
              "      <th>14341</th>\n",
              "      <td>2016-03-23 01:36:20</td>\n",
              "      <td>Hole_kostenlos_ab</td>\n",
              "      <td>privat</td>\n",
              "      <td>Angebot</td>\n",
              "      <td>$0</td>\n",
              "      <td>test</td>\n",
              "      <td>NaN</td>\n",
              "      <td>9999</td>\n",
              "      <td>NaN</td>\n",
              "      <td>0</td>\n",
              "      <td>NaN</td>\n",
              "      <td>10,000km</td>\n",
              "      <td>0</td>\n",
              "      <td>NaN</td>\n",
              "      <td>bmw</td>\n",
              "      <td>NaN</td>\n",
              "      <td>2016-03-23 00:00:00</td>\n",
              "      <td>0</td>\n",
              "      <td>32689</td>\n",
              "      <td>2016-03-23 08:47:00</td>\n",
              "    </tr>\n",
              "    <tr>\n",
              "      <th>33950</th>\n",
              "      <td>2016-03-23 21:52:25</td>\n",
              "      <td>58er_karmann_ghia_lowlight_Kaefer__zum_restaur...</td>\n",
              "      <td>privat</td>\n",
              "      <td>Angebot</td>\n",
              "      <td>$7,999</td>\n",
              "      <td>test</td>\n",
              "      <td>NaN</td>\n",
              "      <td>9999</td>\n",
              "      <td>NaN</td>\n",
              "      <td>0</td>\n",
              "      <td>kaefer</td>\n",
              "      <td>10,000km</td>\n",
              "      <td>0</td>\n",
              "      <td>NaN</td>\n",
              "      <td>volkswagen</td>\n",
              "      <td>NaN</td>\n",
              "      <td>2016-03-23 00:00:00</td>\n",
              "      <td>0</td>\n",
              "      <td>47638</td>\n",
              "      <td>2016-04-06 03:46:40</td>\n",
              "    </tr>\n",
              "    <tr>\n",
              "      <th>38076</th>\n",
              "      <td>2016-04-04 22:54:47</td>\n",
              "      <td>Mercedes_Benz_A180</td>\n",
              "      <td>privat</td>\n",
              "      <td>Angebot</td>\n",
              "      <td>$18,000</td>\n",
              "      <td>test</td>\n",
              "      <td>NaN</td>\n",
              "      <td>9999</td>\n",
              "      <td>NaN</td>\n",
              "      <td>0</td>\n",
              "      <td>a_klasse</td>\n",
              "      <td>10,000km</td>\n",
              "      <td>0</td>\n",
              "      <td>benzin</td>\n",
              "      <td>mercedes_benz</td>\n",
              "      <td>NaN</td>\n",
              "      <td>2016-04-04 00:00:00</td>\n",
              "      <td>0</td>\n",
              "      <td>51379</td>\n",
              "      <td>2016-04-07 02:44:52</td>\n",
              "    </tr>\n",
              "  </tbody>\n",
              "</table>\n",
              "</div>"
            ],
            "text/plain": [
              "              date_crawled  ...            last_seen\n",
              "8012   2016-03-23 16:43:29  ...  2016-04-05 20:16:15\n",
              "14341  2016-03-23 01:36:20  ...  2016-03-23 08:47:00\n",
              "33950  2016-03-23 21:52:25  ...  2016-04-06 03:46:40\n",
              "38076  2016-04-04 22:54:47  ...  2016-04-07 02:44:52\n",
              "\n",
              "[4 rows x 20 columns]"
            ]
          },
          "metadata": {
            "tags": []
          },
          "execution_count": 57
        }
      ]
    },
    {
      "cell_type": "markdown",
      "metadata": {
        "id": "8DHH3JQnGs_m",
        "colab_type": "text"
      },
      "source": [
        "Drop columns with mostly same values "
      ]
    },
    {
      "cell_type": "code",
      "metadata": {
        "id": "YFacxqutGm5I",
        "colab_type": "code",
        "colab": {}
      },
      "source": [
        "autos = autos.drop([\"num_photos\", \"seller\", \"offer_type\"], axis=1)"
      ],
      "execution_count": 0,
      "outputs": []
    },
    {
      "cell_type": "markdown",
      "metadata": {
        "id": "jfQRgcqHIdfI",
        "colab_type": "text"
      },
      "source": [
        "Convert price and odometer to numerical columns"
      ]
    },
    {
      "cell_type": "code",
      "metadata": {
        "id": "ZzhrM5iYIcjl",
        "colab_type": "code",
        "colab": {}
      },
      "source": [
        "autos[\"price\"] = autos[\"price\"].str.replace(\"$\",\"\").str.replace(\",\",\"\").astype(int)\n"
      ],
      "execution_count": 0,
      "outputs": []
    },
    {
      "cell_type": "code",
      "metadata": {
        "id": "bcQKU4BALbpV",
        "colab_type": "code",
        "outputId": "8fcdacd5-d906-4873-a086-e8307d79e821",
        "colab": {
          "base_uri": "https://localhost:8080/",
          "height": 119
        }
      },
      "source": [
        "autos[\"price\"].head()"
      ],
      "execution_count": 60,
      "outputs": [
        {
          "output_type": "execute_result",
          "data": {
            "text/plain": [
              "0    5000\n",
              "1    8500\n",
              "2    8990\n",
              "3    4350\n",
              "4    1350\n",
              "Name: price, dtype: int64"
            ]
          },
          "metadata": {
            "tags": []
          },
          "execution_count": 60
        }
      ]
    },
    {
      "cell_type": "code",
      "metadata": {
        "id": "rcohv3rMK3eo",
        "colab_type": "code",
        "colab": {}
      },
      "source": [
        "autos[\"odometer\"] = autos[\"odometer\"].str.replace(\"km\",\"\").str.replace(\",\",\"\").astype(int)"
      ],
      "execution_count": 0,
      "outputs": []
    },
    {
      "cell_type": "code",
      "metadata": {
        "id": "40ocOyVeLI5y",
        "colab_type": "code",
        "outputId": "a335b43c-9bac-4a95-a901-92783c8a36e9",
        "colab": {
          "base_uri": "https://localhost:8080/",
          "height": 119
        }
      },
      "source": [
        "autos.rename({\"odometer\":\"odometer_km\"},  axis = 1, inplace = True)\n",
        "autos[\"odometer_km\"].head()"
      ],
      "execution_count": 62,
      "outputs": [
        {
          "output_type": "execute_result",
          "data": {
            "text/plain": [
              "0    150000\n",
              "1    150000\n",
              "2     70000\n",
              "3     70000\n",
              "4    150000\n",
              "Name: odometer_km, dtype: int64"
            ]
          },
          "metadata": {
            "tags": []
          },
          "execution_count": 62
        }
      ]
    },
    {
      "cell_type": "markdown",
      "metadata": {
        "id": "Xq2_KIQsbKWB",
        "colab_type": "text"
      },
      "source": [
        "\n",
        "\n",
        "---\n",
        "\n",
        "\n",
        "Explore price column\n"
      ]
    },
    {
      "cell_type": "code",
      "metadata": {
        "id": "LyPbLeVkbNAB",
        "colab_type": "code",
        "outputId": "d68921b1-d796-428a-b66c-72bf7ffe2333",
        "colab": {
          "base_uri": "https://localhost:8080/",
          "height": 34
        }
      },
      "source": [
        "autos[\"price\"].unique().shape"
      ],
      "execution_count": 63,
      "outputs": [
        {
          "output_type": "execute_result",
          "data": {
            "text/plain": [
              "(2357,)"
            ]
          },
          "metadata": {
            "tags": []
          },
          "execution_count": 63
        }
      ]
    },
    {
      "cell_type": "code",
      "metadata": {
        "id": "6O0159rfbUb1",
        "colab_type": "code",
        "outputId": "f3b5f9db-6346-4eed-bfda-cf78af283377",
        "colab": {
          "base_uri": "https://localhost:8080/",
          "height": 170
        }
      },
      "source": [
        "autos[\"price\"].describe()"
      ],
      "execution_count": 64,
      "outputs": [
        {
          "output_type": "execute_result",
          "data": {
            "text/plain": [
              "count    5.000000e+04\n",
              "mean     9.840044e+03\n",
              "std      4.811044e+05\n",
              "min      0.000000e+00\n",
              "25%      1.100000e+03\n",
              "50%      2.950000e+03\n",
              "75%      7.200000e+03\n",
              "max      1.000000e+08\n",
              "Name: price, dtype: float64"
            ]
          },
          "metadata": {
            "tags": []
          },
          "execution_count": 64
        }
      ]
    },
    {
      "cell_type": "code",
      "metadata": {
        "id": "HnULkKMHbm1g",
        "colab_type": "code",
        "outputId": "21660d84-d66c-499e-d4b5-aa48f0b8a5bb",
        "colab": {
          "base_uri": "https://localhost:8080/",
          "height": 374
        }
      },
      "source": [
        "autos[\"price\"].value_counts().sort_index(ascending=False).head(20)"
      ],
      "execution_count": 65,
      "outputs": [
        {
          "output_type": "execute_result",
          "data": {
            "text/plain": [
              "99999999    1\n",
              "27322222    1\n",
              "12345678    3\n",
              "11111111    2\n",
              "10000000    1\n",
              "3890000     1\n",
              "1300000     1\n",
              "1234566     1\n",
              "999999      2\n",
              "999990      1\n",
              "350000      1\n",
              "345000      1\n",
              "299000      1\n",
              "295000      1\n",
              "265000      1\n",
              "259000      1\n",
              "250000      1\n",
              "220000      1\n",
              "198000      1\n",
              "197000      1\n",
              "Name: price, dtype: int64"
            ]
          },
          "metadata": {
            "tags": []
          },
          "execution_count": 65
        }
      ]
    },
    {
      "cell_type": "code",
      "metadata": {
        "id": "9hPPDR5nh4AY",
        "colab_type": "code",
        "outputId": "218e69ed-e217-4889-c9f3-1d69d80e80e3",
        "colab": {
          "base_uri": "https://localhost:8080/",
          "height": 374
        }
      },
      "source": [
        "autos[\"price\"].value_counts().sort_index().head(20)"
      ],
      "execution_count": 66,
      "outputs": [
        {
          "output_type": "execute_result",
          "data": {
            "text/plain": [
              "0     1421\n",
              "1      156\n",
              "2        3\n",
              "3        1\n",
              "5        2\n",
              "8        1\n",
              "9        1\n",
              "10       7\n",
              "11       2\n",
              "12       3\n",
              "13       2\n",
              "14       1\n",
              "15       2\n",
              "17       3\n",
              "18       1\n",
              "20       4\n",
              "25       5\n",
              "29       1\n",
              "30       7\n",
              "35       1\n",
              "Name: price, dtype: int64"
            ]
          },
          "metadata": {
            "tags": []
          },
          "execution_count": 66
        }
      ]
    },
    {
      "cell_type": "code",
      "metadata": {
        "id": "9Y8FNLSpjCUJ",
        "colab_type": "code",
        "outputId": "57e86370-59b5-4f82-c5b7-0e776cf04ae7",
        "colab": {
          "base_uri": "https://localhost:8080/",
          "height": 170
        }
      },
      "source": [
        "autos[\"price\"].describe()"
      ],
      "execution_count": 67,
      "outputs": [
        {
          "output_type": "execute_result",
          "data": {
            "text/plain": [
              "count    5.000000e+04\n",
              "mean     9.840044e+03\n",
              "std      4.811044e+05\n",
              "min      0.000000e+00\n",
              "25%      1.100000e+03\n",
              "50%      2.950000e+03\n",
              "75%      7.200000e+03\n",
              "max      1.000000e+08\n",
              "Name: price, dtype: float64"
            ]
          },
          "metadata": {
            "tags": []
          },
          "execution_count": 67
        }
      ]
    },
    {
      "cell_type": "markdown",
      "metadata": {
        "id": "nMiu7Y8mie69",
        "colab_type": "text"
      },
      "source": [
        "There are a number of listings with prices below \\$30, including about 1,500 at \\$0. There are also a small number of listings with very high values, including 14 at around or over $1 million.\n",
        "\n",
        "Given that eBay is an auction site, there could legitimately be items where the opening bid is \\$1. We will keep the \\$1 items, but remove anything above \\$350,000."
      ]
    },
    {
      "cell_type": "code",
      "metadata": {
        "id": "x0Typ0DAircA",
        "colab_type": "code",
        "outputId": "67ac7672-1de3-4900-d3c9-7b035d3a4b16",
        "colab": {
          "base_uri": "https://localhost:8080/",
          "height": 170
        }
      },
      "source": [
        "autos = autos[autos[\"price\"].between(1,350001)]\n",
        "autos[\"price\"].describe()"
      ],
      "execution_count": 68,
      "outputs": [
        {
          "output_type": "execute_result",
          "data": {
            "text/plain": [
              "count     48565.000000\n",
              "mean       5888.935591\n",
              "std        9059.854754\n",
              "min           1.000000\n",
              "25%        1200.000000\n",
              "50%        3000.000000\n",
              "75%        7490.000000\n",
              "max      350000.000000\n",
              "Name: price, dtype: float64"
            ]
          },
          "metadata": {
            "tags": []
          },
          "execution_count": 68
        }
      ]
    },
    {
      "cell_type": "markdown",
      "metadata": {
        "id": "9hJN__W-lcxH",
        "colab_type": "text"
      },
      "source": [
        "Explore odometer_km column"
      ]
    },
    {
      "cell_type": "code",
      "metadata": {
        "id": "RMwQPQRMlcHB",
        "colab_type": "code",
        "outputId": "c224c218-8e93-4e51-e7e7-6f32e359bd4b",
        "colab": {
          "base_uri": "https://localhost:8080/",
          "height": 255
        }
      },
      "source": [
        "autos[\"odometer_km\"].value_counts()"
      ],
      "execution_count": 69,
      "outputs": [
        {
          "output_type": "execute_result",
          "data": {
            "text/plain": [
              "150000    31414\n",
              "125000     5057\n",
              "100000     2115\n",
              "90000      1734\n",
              "80000      1415\n",
              "70000      1217\n",
              "60000      1155\n",
              "50000      1012\n",
              "5000        836\n",
              "40000       815\n",
              "30000       780\n",
              "20000       762\n",
              "10000       253\n",
              "Name: odometer_km, dtype: int64"
            ]
          },
          "metadata": {
            "tags": []
          },
          "execution_count": 69
        }
      ]
    },
    {
      "cell_type": "markdown",
      "metadata": {
        "id": "pfBZmtnL8WGo",
        "colab_type": "text"
      },
      "source": [
        "## Exploring date columns\n",
        "\n",
        "> There are 5 columns with date values. Some of these columns were created by the crawler, some came from the website itself.\n",
        "\n",
        "- `date_crawled`: added by the crawler\n",
        "- `last_seen`: added by the crawler\n",
        "- `ad_created`: from the website\n",
        "- `registration_month`: from the website\n",
        "- `registration_year`: from the website\n",
        "\n"
      ]
    },
    {
      "cell_type": "code",
      "metadata": {
        "id": "2d_wUAzn5Nei",
        "colab_type": "code",
        "outputId": "3ef05d69-6424-4537-e02c-c0a8200f6f05",
        "colab": {
          "base_uri": "https://localhost:8080/",
          "height": 612
        }
      },
      "source": [
        "autos[\"date_crawled\"].str[:10].value_counts(normalize = True, dropna = False).sort_index() # to select the first 10 character of each value str[:10]"
      ],
      "execution_count": 70,
      "outputs": [
        {
          "output_type": "execute_result",
          "data": {
            "text/plain": [
              "2016-03-05    0.025327\n",
              "2016-03-06    0.014043\n",
              "2016-03-07    0.036014\n",
              "2016-03-08    0.033296\n",
              "2016-03-09    0.033090\n",
              "2016-03-10    0.032184\n",
              "2016-03-11    0.032575\n",
              "2016-03-12    0.036920\n",
              "2016-03-13    0.015670\n",
              "2016-03-14    0.036549\n",
              "2016-03-15    0.034284\n",
              "2016-03-16    0.029610\n",
              "2016-03-17    0.031628\n",
              "2016-03-18    0.012911\n",
              "2016-03-19    0.034778\n",
              "2016-03-20    0.037887\n",
              "2016-03-21    0.037373\n",
              "2016-03-22    0.032987\n",
              "2016-03-23    0.032225\n",
              "2016-03-24    0.029342\n",
              "2016-03-25    0.031607\n",
              "2016-03-26    0.032204\n",
              "2016-03-27    0.031092\n",
              "2016-03-28    0.034860\n",
              "2016-03-29    0.034099\n",
              "2016-03-30    0.033687\n",
              "2016-03-31    0.031834\n",
              "2016-04-01    0.033687\n",
              "2016-04-02    0.035478\n",
              "2016-04-03    0.038608\n",
              "2016-04-04    0.036487\n",
              "2016-04-05    0.013096\n",
              "2016-04-06    0.003171\n",
              "2016-04-07    0.001400\n",
              "Name: date_crawled, dtype: float64"
            ]
          },
          "metadata": {
            "tags": []
          },
          "execution_count": 70
        }
      ]
    },
    {
      "cell_type": "markdown",
      "metadata": {
        "id": "y8RYbs-W9Yte",
        "colab_type": "text"
      },
      "source": [
        "It appears that the site was crawled daily over the months of March and April"
      ]
    },
    {
      "cell_type": "code",
      "metadata": {
        "id": "ZeU-TUUC8vt_",
        "colab_type": "code",
        "outputId": "8a46e2a5-5d7d-4a37-9864-be881ad5b2b7",
        "colab": {
          "base_uri": "https://localhost:8080/",
          "height": 612
        }
      },
      "source": [
        "autos[\"date_crawled\"].str[:10].value_counts(normalize = True, dropna = False).sort_values()"
      ],
      "execution_count": 71,
      "outputs": [
        {
          "output_type": "execute_result",
          "data": {
            "text/plain": [
              "2016-04-07    0.001400\n",
              "2016-04-06    0.003171\n",
              "2016-03-18    0.012911\n",
              "2016-04-05    0.013096\n",
              "2016-03-06    0.014043\n",
              "2016-03-13    0.015670\n",
              "2016-03-05    0.025327\n",
              "2016-03-24    0.029342\n",
              "2016-03-16    0.029610\n",
              "2016-03-27    0.031092\n",
              "2016-03-25    0.031607\n",
              "2016-03-17    0.031628\n",
              "2016-03-31    0.031834\n",
              "2016-03-10    0.032184\n",
              "2016-03-26    0.032204\n",
              "2016-03-23    0.032225\n",
              "2016-03-11    0.032575\n",
              "2016-03-22    0.032987\n",
              "2016-03-09    0.033090\n",
              "2016-03-08    0.033296\n",
              "2016-03-30    0.033687\n",
              "2016-04-01    0.033687\n",
              "2016-03-29    0.034099\n",
              "2016-03-15    0.034284\n",
              "2016-03-19    0.034778\n",
              "2016-03-28    0.034860\n",
              "2016-04-02    0.035478\n",
              "2016-03-07    0.036014\n",
              "2016-04-04    0.036487\n",
              "2016-03-14    0.036549\n",
              "2016-03-12    0.036920\n",
              "2016-03-21    0.037373\n",
              "2016-03-20    0.037887\n",
              "2016-04-03    0.038608\n",
              "Name: date_crawled, dtype: float64"
            ]
          },
          "metadata": {
            "tags": []
          },
          "execution_count": 71
        }
      ]
    },
    {
      "cell_type": "code",
      "metadata": {
        "id": "VgLsA1S59CmT",
        "colab_type": "code",
        "outputId": "981647a0-6590-48da-ef4c-588d7d8ff09c",
        "colab": {
          "base_uri": "https://localhost:8080/",
          "height": 204
        }
      },
      "source": [
        "autos[['date_crawled','ad_created','last_seen']][0:5]"
      ],
      "execution_count": 72,
      "outputs": [
        {
          "output_type": "execute_result",
          "data": {
            "text/html": [
              "<div>\n",
              "<style scoped>\n",
              "    .dataframe tbody tr th:only-of-type {\n",
              "        vertical-align: middle;\n",
              "    }\n",
              "\n",
              "    .dataframe tbody tr th {\n",
              "        vertical-align: top;\n",
              "    }\n",
              "\n",
              "    .dataframe thead th {\n",
              "        text-align: right;\n",
              "    }\n",
              "</style>\n",
              "<table border=\"1\" class=\"dataframe\">\n",
              "  <thead>\n",
              "    <tr style=\"text-align: right;\">\n",
              "      <th></th>\n",
              "      <th>date_crawled</th>\n",
              "      <th>ad_created</th>\n",
              "      <th>last_seen</th>\n",
              "    </tr>\n",
              "  </thead>\n",
              "  <tbody>\n",
              "    <tr>\n",
              "      <th>0</th>\n",
              "      <td>2016-03-26 17:47:46</td>\n",
              "      <td>2016-03-26 00:00:00</td>\n",
              "      <td>2016-04-06 06:45:54</td>\n",
              "    </tr>\n",
              "    <tr>\n",
              "      <th>1</th>\n",
              "      <td>2016-04-04 13:38:56</td>\n",
              "      <td>2016-04-04 00:00:00</td>\n",
              "      <td>2016-04-06 14:45:08</td>\n",
              "    </tr>\n",
              "    <tr>\n",
              "      <th>2</th>\n",
              "      <td>2016-03-26 18:57:24</td>\n",
              "      <td>2016-03-26 00:00:00</td>\n",
              "      <td>2016-04-06 20:15:37</td>\n",
              "    </tr>\n",
              "    <tr>\n",
              "      <th>3</th>\n",
              "      <td>2016-03-12 16:58:10</td>\n",
              "      <td>2016-03-12 00:00:00</td>\n",
              "      <td>2016-03-15 03:16:28</td>\n",
              "    </tr>\n",
              "    <tr>\n",
              "      <th>4</th>\n",
              "      <td>2016-04-01 14:38:50</td>\n",
              "      <td>2016-04-01 00:00:00</td>\n",
              "      <td>2016-04-01 14:38:50</td>\n",
              "    </tr>\n",
              "  </tbody>\n",
              "</table>\n",
              "</div>"
            ],
            "text/plain": [
              "          date_crawled           ad_created            last_seen\n",
              "0  2016-03-26 17:47:46  2016-03-26 00:00:00  2016-04-06 06:45:54\n",
              "1  2016-04-04 13:38:56  2016-04-04 00:00:00  2016-04-06 14:45:08\n",
              "2  2016-03-26 18:57:24  2016-03-26 00:00:00  2016-04-06 20:15:37\n",
              "3  2016-03-12 16:58:10  2016-03-12 00:00:00  2016-03-15 03:16:28\n",
              "4  2016-04-01 14:38:50  2016-04-01 00:00:00  2016-04-01 14:38:50"
            ]
          },
          "metadata": {
            "tags": []
          },
          "execution_count": 72
        }
      ]
    },
    {
      "cell_type": "code",
      "metadata": {
        "id": "zz27nOVm_Vf7",
        "colab_type": "code",
        "outputId": "2b6f158c-f31d-48ac-d831-9ac8287be6ac",
        "colab": {
          "base_uri": "https://localhost:8080/",
          "height": 1000
        }
      },
      "source": [
        "autos[\"ad_created\"].str[:10].value_counts(normalize = True, dropna = False).sort_index()"
      ],
      "execution_count": 73,
      "outputs": [
        {
          "output_type": "execute_result",
          "data": {
            "text/plain": [
              "2015-06-11    0.000021\n",
              "2015-08-10    0.000021\n",
              "2015-09-09    0.000021\n",
              "2015-11-10    0.000021\n",
              "2015-12-05    0.000021\n",
              "2015-12-30    0.000021\n",
              "2016-01-03    0.000021\n",
              "2016-01-07    0.000021\n",
              "2016-01-10    0.000041\n",
              "2016-01-13    0.000021\n",
              "2016-01-14    0.000021\n",
              "2016-01-16    0.000021\n",
              "2016-01-22    0.000021\n",
              "2016-01-27    0.000062\n",
              "2016-01-29    0.000021\n",
              "2016-02-01    0.000021\n",
              "2016-02-02    0.000041\n",
              "2016-02-05    0.000041\n",
              "2016-02-07    0.000021\n",
              "2016-02-08    0.000021\n",
              "2016-02-09    0.000021\n",
              "2016-02-11    0.000021\n",
              "2016-02-12    0.000041\n",
              "2016-02-14    0.000041\n",
              "2016-02-16    0.000021\n",
              "2016-02-17    0.000021\n",
              "2016-02-18    0.000041\n",
              "2016-02-19    0.000062\n",
              "2016-02-20    0.000041\n",
              "2016-02-21    0.000062\n",
              "                ...   \n",
              "2016-03-09    0.033151\n",
              "2016-03-10    0.031895\n",
              "2016-03-11    0.032904\n",
              "2016-03-12    0.036755\n",
              "2016-03-13    0.017008\n",
              "2016-03-14    0.035190\n",
              "2016-03-15    0.034016\n",
              "2016-03-16    0.030125\n",
              "2016-03-17    0.031278\n",
              "2016-03-18    0.013590\n",
              "2016-03-19    0.033687\n",
              "2016-03-20    0.037949\n",
              "2016-03-21    0.037579\n",
              "2016-03-22    0.032801\n",
              "2016-03-23    0.032060\n",
              "2016-03-24    0.029280\n",
              "2016-03-25    0.031751\n",
              "2016-03-26    0.032266\n",
              "2016-03-27    0.030989\n",
              "2016-03-28    0.034984\n",
              "2016-03-29    0.034037\n",
              "2016-03-30    0.033501\n",
              "2016-03-31    0.031875\n",
              "2016-04-01    0.033687\n",
              "2016-04-02    0.035149\n",
              "2016-04-03    0.038855\n",
              "2016-04-04    0.036858\n",
              "2016-04-05    0.011819\n",
              "2016-04-06    0.003253\n",
              "2016-04-07    0.001256\n",
              "Name: ad_created, Length: 76, dtype: float64"
            ]
          },
          "metadata": {
            "tags": []
          },
          "execution_count": 73
        }
      ]
    },
    {
      "cell_type": "code",
      "metadata": {
        "id": "UFjSmBV6C-mt",
        "colab_type": "code",
        "outputId": "f067768f-c024-4d47-afa5-a769de3529ff",
        "colab": {
          "base_uri": "https://localhost:8080/",
          "height": 612
        }
      },
      "source": [
        "(autos[\"last_seen\"]\n",
        "        .str[:10]\n",
        "        .value_counts(normalize=True, dropna=False)\n",
        "        .sort_index()\n",
        "        )"
      ],
      "execution_count": 74,
      "outputs": [
        {
          "output_type": "execute_result",
          "data": {
            "text/plain": [
              "2016-03-05    0.001071\n",
              "2016-03-06    0.004324\n",
              "2016-03-07    0.005395\n",
              "2016-03-08    0.007413\n",
              "2016-03-09    0.009595\n",
              "2016-03-10    0.010666\n",
              "2016-03-11    0.012375\n",
              "2016-03-12    0.023783\n",
              "2016-03-13    0.008895\n",
              "2016-03-14    0.012602\n",
              "2016-03-15    0.015876\n",
              "2016-03-16    0.016452\n",
              "2016-03-17    0.028086\n",
              "2016-03-18    0.007351\n",
              "2016-03-19    0.015834\n",
              "2016-03-20    0.020653\n",
              "2016-03-21    0.020632\n",
              "2016-03-22    0.021373\n",
              "2016-03-23    0.018532\n",
              "2016-03-24    0.019767\n",
              "2016-03-25    0.019211\n",
              "2016-03-26    0.016802\n",
              "2016-03-27    0.015649\n",
              "2016-03-28    0.020859\n",
              "2016-03-29    0.022341\n",
              "2016-03-30    0.024771\n",
              "2016-03-31    0.023783\n",
              "2016-04-01    0.022794\n",
              "2016-04-02    0.024915\n",
              "2016-04-03    0.025203\n",
              "2016-04-04    0.024483\n",
              "2016-04-05    0.124761\n",
              "2016-04-06    0.221806\n",
              "2016-04-07    0.131947\n",
              "Name: last_seen, dtype: float64"
            ]
          },
          "metadata": {
            "tags": []
          },
          "execution_count": 74
        }
      ]
    },
    {
      "cell_type": "markdown",
      "metadata": {
        "id": "BKwFa0sw1Fr7",
        "colab_type": "text"
      },
      "source": [
        "\n",
        "\n",
        "---\n",
        "\n",
        "## Dealing with incorrect car year data"
      ]
    },
    {
      "cell_type": "code",
      "metadata": {
        "id": "X2wAZkpYDXQQ",
        "colab_type": "code",
        "outputId": "cc427c2a-74c2-4d89-a50d-9ed0d5d82a67",
        "colab": {
          "base_uri": "https://localhost:8080/",
          "height": 170
        }
      },
      "source": [
        "autos[\"registration_year\"].describe()"
      ],
      "execution_count": 75,
      "outputs": [
        {
          "output_type": "execute_result",
          "data": {
            "text/plain": [
              "count    48565.000000\n",
              "mean      2004.755421\n",
              "std         88.643887\n",
              "min       1000.000000\n",
              "25%       1999.000000\n",
              "50%       2004.000000\n",
              "75%       2008.000000\n",
              "max       9999.000000\n",
              "Name: registration_year, dtype: float64"
            ]
          },
          "metadata": {
            "tags": []
          },
          "execution_count": 75
        }
      ]
    },
    {
      "cell_type": "markdown",
      "metadata": {
        "id": "ClKZ4Bw_DjXI",
        "colab_type": "text"
      },
      "source": [
        "The lowest registration year is 1000 and highest is 9999 which are erroneous values as cars did not exist in the year 2000 and 9999 is in the future. Registration year indicates the age of the car.\n"
      ]
    },
    {
      "cell_type": "code",
      "metadata": {
        "id": "f5ig9sM1znMT",
        "colab_type": "code",
        "colab": {
          "base_uri": "https://localhost:8080/",
          "height": 1000
        },
        "outputId": "a9ed7017-ef7f-47dc-9efb-23d7432a2d98"
      },
      "source": [
        "autos[\"registration_year\"].value_counts().sort_index()"
      ],
      "execution_count": 76,
      "outputs": [
        {
          "output_type": "execute_result",
          "data": {
            "text/plain": [
              "1000       1\n",
              "1001       1\n",
              "1111       1\n",
              "1800       2\n",
              "1910       5\n",
              "1927       1\n",
              "1929       1\n",
              "1931       1\n",
              "1934       2\n",
              "1937       4\n",
              "1938       1\n",
              "1939       1\n",
              "1941       2\n",
              "1943       1\n",
              "1948       1\n",
              "1950       3\n",
              "1951       2\n",
              "1952       1\n",
              "1953       1\n",
              "1954       2\n",
              "1955       2\n",
              "1956       4\n",
              "1957       2\n",
              "1958       4\n",
              "1959       6\n",
              "1960      23\n",
              "1961       6\n",
              "1962       4\n",
              "1963       8\n",
              "1964      12\n",
              "        ... \n",
              "2000    3156\n",
              "2001    2636\n",
              "2002    2486\n",
              "2003    2699\n",
              "2004    2703\n",
              "2005    2936\n",
              "2006    2670\n",
              "2007    2277\n",
              "2008    2215\n",
              "2009    2085\n",
              "2010    1589\n",
              "2011    1623\n",
              "2012    1310\n",
              "2013     803\n",
              "2014     663\n",
              "2015     392\n",
              "2016    1220\n",
              "2017    1392\n",
              "2018     470\n",
              "2019       2\n",
              "2800       1\n",
              "4100       1\n",
              "4500       1\n",
              "4800       1\n",
              "5000       4\n",
              "5911       1\n",
              "6200       1\n",
              "8888       1\n",
              "9000       1\n",
              "9999       3\n",
              "Name: registration_year, Length: 95, dtype: int64"
            ]
          },
          "metadata": {
            "tags": []
          },
          "execution_count": 76
        }
      ]
    },
    {
      "cell_type": "markdown",
      "metadata": {
        "id": "k7PvjSRU08qN",
        "colab_type": "text"
      },
      "source": [
        "As cars did not exist until late 1800s, car listings before 1900 can be removed. Also, any car registered after the current year, 2019, can be considered invalid and hence, be removed as well.\n"
      ]
    },
    {
      "cell_type": "code",
      "metadata": {
        "id": "sXKkPJjO1sk7",
        "colab_type": "code",
        "colab": {
          "base_uri": "https://localhost:8080/",
          "height": 34
        },
        "outputId": "e0d1f97e-d224-4000-908c-492029f7f48d"
      },
      "source": [
        "(~autos[\"registration_year\"].between(1900, 2019)).sum()/autos.shape[0] # number of invalid data vs total data"
      ],
      "execution_count": 77,
      "outputs": [
        {
          "output_type": "execute_result",
          "data": {
            "text/plain": [
              "0.00041181921136621024"
            ]
          },
          "metadata": {
            "tags": []
          },
          "execution_count": 77
        }
      ]
    },
    {
      "cell_type": "markdown",
      "metadata": {
        "id": "q8Sk0nqf2blu",
        "colab_type": "text"
      },
      "source": [
        "The number of listings with incorrect car listings is insignificant and hence these rows can be eliminated."
      ]
    },
    {
      "cell_type": "code",
      "metadata": {
        "id": "R_eQittQ25IV",
        "colab_type": "code",
        "colab": {
          "base_uri": "https://localhost:8080/",
          "height": 204
        },
        "outputId": "8dbfaf71-0cca-4ea9-96ea-921192c771f9"
      },
      "source": [
        "autos = autos[autos[\"registration_year\"].between(1900,2019)] # remove outliers\n",
        "autos[\"registration_year\"].value_counts(normalize=True).head(10) # find relative frequencies"
      ],
      "execution_count": 78,
      "outputs": [
        {
          "output_type": "execute_result",
          "data": {
            "text/plain": [
              "2000    0.065012\n",
              "2005    0.060480\n",
              "1999    0.059677\n",
              "2004    0.055680\n",
              "2003    0.055598\n",
              "2006    0.055001\n",
              "2001    0.054300\n",
              "2002    0.051210\n",
              "1998    0.048676\n",
              "2007    0.046905\n",
              "Name: registration_year, dtype: float64"
            ]
          },
          "metadata": {
            "tags": []
          },
          "execution_count": 78
        }
      ]
    },
    {
      "cell_type": "markdown",
      "metadata": {
        "id": "7U6nlQ1D3ukW",
        "colab_type": "text"
      },
      "source": [
        "The year 2000 has the maximum number of car registrations"
      ]
    },
    {
      "cell_type": "code",
      "metadata": {
        "id": "Eue4IVE_3NVp",
        "colab_type": "code",
        "colab": {
          "base_uri": "https://localhost:8080/",
          "height": 374
        },
        "outputId": "07c22d3e-846c-4520-ad09-68e06ac8603a"
      },
      "source": [
        "autos[\"registration_year\"].value_counts().sort_index(ascending=False).head(20)"
      ],
      "execution_count": 80,
      "outputs": [
        {
          "output_type": "execute_result",
          "data": {
            "text/plain": [
              "2019       2\n",
              "2018     470\n",
              "2017    1392\n",
              "2016    1220\n",
              "2015     392\n",
              "2014     663\n",
              "2013     803\n",
              "2012    1310\n",
              "2011    1623\n",
              "2010    1589\n",
              "2009    2085\n",
              "2008    2215\n",
              "2007    2277\n",
              "2006    2670\n",
              "2005    2936\n",
              "2004    2703\n",
              "2003    2699\n",
              "2002    2486\n",
              "2001    2636\n",
              "2000    3156\n",
              "Name: registration_year, dtype: int64"
            ]
          },
          "metadata": {
            "tags": []
          },
          "execution_count": 80
        }
      ]
    },
    {
      "cell_type": "markdown",
      "metadata": {
        "id": "FjFhwZPN39Wf",
        "colab_type": "text"
      },
      "source": [
        "It appears most vehicles were registered in the past 2 decades"
      ]
    }
  ]
}